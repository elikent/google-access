{
 "cells": [
  {
   "cell_type": "code",
   "execution_count": 1,
   "id": "9a64b6dc",
   "metadata": {},
   "outputs": [],
   "source": [
    "import pandas as pd, numpy as np\n",
    "from pathlib import Path\n",
    "import gspread"
   ]
  },
  {
   "cell_type": "code",
   "execution_count": 28,
   "id": "a9a26985",
   "metadata": {},
   "outputs": [],
   "source": [
    "# Define paths\n",
    "\n",
    "ROOT_DIR = Path.cwd().parent\n",
    "DATA_DIR = ROOT_DIR / \"data\" / \"raw\"\n",
    "SECRETS_DIR = ROOT_DIR / \"secrets\"\n",
    "SECRETS_FILE = SECRETS_DIR / \"secrets.json\"\n",
    "\n",
    "DOC_GSHEET = \"Cacciamani Workers Liuna PR 55\"\n",
    "DOC_SHEET = 0\n",
    "CALLS_GSHEET = \"cacciamani-20250912\"\n",
    "CALLS_SHEET = 1"
   ]
  },
  {
   "cell_type": "code",
   "execution_count": 8,
   "id": "6d3d2ab9",
   "metadata": {},
   "outputs": [
    {
     "name": "stdout",
     "output_type": "stream",
     "text": [
      "Relative dot: .\n",
      "Resolved dot: D:\\my-projects\\work\\google-access\\projects\\cacciamani-request\\notebooks\n",
      "\n",
      "Before resolve: pless-plase\n"
     ]
    },
    {
     "ename": "AttributeError",
     "evalue": "'str' object has no attribute 'resolve'",
     "output_type": "error",
     "traceback": [
      "\u001b[31m---------------------------------------------------------------------------\u001b[39m",
      "\u001b[31mAttributeError\u001b[39m                            Traceback (most recent call last)",
      "\u001b[36mCell\u001b[39m\u001b[36m \u001b[39m\u001b[32mIn[8]\u001b[39m\u001b[32m, line 8\u001b[39m\n\u001b[32m      6\u001b[39m example1 = \u001b[33m\"\u001b[39m\u001b[33mpless-plase\u001b[39m\u001b[33m\"\u001b[39m\n\u001b[32m      7\u001b[39m \u001b[38;5;28mprint\u001b[39m(\u001b[33m\"\u001b[39m\u001b[38;5;130;01m\\n\u001b[39;00m\u001b[33mBefore resolve:\u001b[39m\u001b[33m\"\u001b[39m, example1)\n\u001b[32m----> \u001b[39m\u001b[32m8\u001b[39m \u001b[38;5;28mprint\u001b[39m(\u001b[33m\"\u001b[39m\u001b[33mAfter resolve: \u001b[39m\u001b[33m\"\u001b[39m, \u001b[43mexample1\u001b[49m\u001b[43m.\u001b[49m\u001b[43mresolve\u001b[49m())\n\u001b[32m     10\u001b[39m example2 = Path(\u001b[33m\"\u001b[39m\u001b[33m..\u001b[39m\u001b[38;5;130;01m\\\\\u001b[39;00m\u001b[33mother-project\u001b[39m\u001b[38;5;130;01m\\\\\u001b[39;00m\u001b[33mnotes.txt\u001b[39m\u001b[33m\"\u001b[39m)\n\u001b[32m     11\u001b[39m \u001b[38;5;28mprint\u001b[39m(\u001b[33m\"\u001b[39m\u001b[38;5;130;01m\\n\u001b[39;00m\u001b[33mBefore resolve:\u001b[39m\u001b[33m\"\u001b[39m, example2)\n",
      "\u001b[31mAttributeError\u001b[39m: 'str' object has no attribute 'resolve'"
     ]
    }
   ],
   "source": [
    "base = Path(\".\")\n",
    "\n",
    "print(\"Relative dot:\", base)\n",
    "print(\"Resolved dot:\", base.resolve())\n",
    "\n",
    "example1 = \"pless-plase\"\n",
    "print(\"\\nBefore resolve:\", example1)\n",
    "print(\"After resolve: \", example1.resolve())\n",
    "\n",
    "example2 = Path(\"..\\\\other-project\\\\notes.txt\")\n",
    "print(\"\\nBefore resolve:\", example2)\n",
    "print(\"After resolve: \", example2.resolve())\n"
   ]
  },
  {
   "cell_type": "code",
   "execution_count": 30,
   "id": "8592c9b9",
   "metadata": {},
   "outputs": [],
   "source": [
    "# Get data\n",
    "\n",
    "# --- Authentication ---\n",
    "# Use the JSON key you downloaded from the Google Cloud Console.\n",
    "# Make sure you have shared your Google Sheet with the service account's email.\n",
    "\n",
    "def get_data_from_gsheet(cred_file_path: Path, file_name: str, sheet: int = 0) -> pd.DataFrame:\n",
    "    \"\"\"Fetch data from a Google Sheet and return it as a pandas DataFrame.\"\"\"\n",
    "    try:\n",
    "        # The scope defines the permissions your script is requesting.\n",
    "        scope = [\n",
    "            'https://www.googleapis.com/auth/spreadsheets',\n",
    "            'https://www.googleapis.com/auth/drive'\n",
    "        ]\n",
    "        \n",
    "        # Authenticate using the service account credentials\n",
    "        # Replace 'path/to/your/credentials.json' with the actual path to your key file.\n",
    "        gc = gspread.service_account(cred_file_path, scopes=scope)\n",
    "        print(\"Authentication successful!\")\n",
    "\n",
    "    except Exception as e:\n",
    "        print(f\"Authentication failed: {e}\")\n",
    "        # Exit or handle the error appropriately\n",
    "        exit()\n",
    "\n",
    "    # --- Open the Google Sheet ---\n",
    "    try:\n",
    "        # Open the spreadsheet by its title.\n",
    "        # Replace 'Your Google Sheet Name' with the exact name of your sheet.\n",
    "        spreadsheet = gc.open(file_name)\n",
    "        print(f\"Successfully opened spreadsheet: '{spreadsheet.title}'\")\n",
    "\n",
    "        # Select the first worksheet. You can also select by name.\n",
    "        # For example: worksheet = spreadsheet.worksheet('Sheet1')\n",
    "        worksheet = spreadsheet.get_worksheet(sheet)\n",
    "        print(f\"Using worksheet: '{worksheet.title}'\")\n",
    "\n",
    "        # --- Load data into a pandas DataFrame ---\n",
    "        # get_all_records() returns a list of dictionaries, which is perfect for a DataFrame.\n",
    "        # It automatically uses the first row as headers.\n",
    "        data = worksheet.get_all_records()\n",
    "        \n",
    "        if not data:\n",
    "            print(\"Worksheet is empty.\")\n",
    "            return pd.DataFrame()\n",
    "        else:\n",
    "            df = pd.DataFrame(data)\n",
    "            print(\"Data loaded into DataFrame successfully:\")\n",
    "            print(df.head())\n",
    "            return df\n",
    "\n",
    "    except gspread.exceptions.SpreadsheetNotFound:\n",
    "        print(\"Error: Spreadsheet not found. Make sure the name is correct and you have shared it with the service account.\")\n",
    "    except Exception as e:\n",
    "        print(f\"An error occurred: {e}\")\n",
    "\n",
    "    # Now you can work with your DataFrame 'df'\n",
    "    # For example:\n",
    "    # print(df.describe())\n"
   ]
  },
  {
   "cell_type": "code",
   "execution_count": 31,
   "id": "60b2bf90",
   "metadata": {},
   "outputs": [
    {
     "name": "stdout",
     "output_type": "stream",
     "text": [
      "Authentication successful!\n",
      "Error: Spreadsheet not found. Make sure the name is correct and you have shared it with the service account.\n"
     ]
    },
    {
     "ename": "AttributeError",
     "evalue": "'NoneType' object has no attribute 'head'",
     "output_type": "error",
     "traceback": [
      "\u001b[31m---------------------------------------------------------------------------\u001b[39m",
      "\u001b[31mAttributeError\u001b[39m                            Traceback (most recent call last)",
      "\u001b[36mCell\u001b[39m\u001b[36m \u001b[39m\u001b[32mIn[31]\u001b[39m\u001b[32m, line 2\u001b[39m\n\u001b[32m      1\u001b[39m df = get_data_from_gsheet(SECRETS_FILE, DOC_GSHEET, DOC_SHEET)\n\u001b[32m----> \u001b[39m\u001b[32m2\u001b[39m \u001b[43mdf\u001b[49m\u001b[43m.\u001b[49m\u001b[43mhead\u001b[49m()\n",
      "\u001b[31mAttributeError\u001b[39m: 'NoneType' object has no attribute 'head'"
     ]
    }
   ],
   "source": [
    "df = get_data_from_gsheet(SECRETS_FILE, DOC_GSHEET, DOC_SHEET)\n",
    "df.head()"
   ]
  },
  {
   "cell_type": "code",
   "execution_count": null,
   "id": "eb15a39e",
   "metadata": {},
   "outputs": [],
   "source": []
  }
 ],
 "metadata": {
  "kernelspec": {
   "display_name": ".venv",
   "language": "python",
   "name": "python3"
  },
  "language_info": {
   "codemirror_mode": {
    "name": "ipython",
    "version": 3
   },
   "file_extension": ".py",
   "mimetype": "text/x-python",
   "name": "python",
   "nbconvert_exporter": "python",
   "pygments_lexer": "ipython3",
   "version": "3.12.1"
  }
 },
 "nbformat": 4,
 "nbformat_minor": 5
}
